{
 "cells": [
  {
   "cell_type": "code",
   "execution_count": 15,
   "id": "68b3b281",
   "metadata": {},
   "outputs": [],
   "source": [
    "import pandas as pd"
   ]
  },
  {
   "cell_type": "code",
   "execution_count": 16,
   "id": "fec3d720",
   "metadata": {},
   "outputs": [],
   "source": [
    "df =pd.read_csv(r\"C:\\Users\\SURFACE\\Downloads\\framingham.csv\")"
   ]
  },
  {
   "cell_type": "code",
   "execution_count": 8,
   "id": "7496ca03",
   "metadata": {},
   "outputs": [
    {
     "data": {
      "text/html": [
       "<div>\n",
       "<style scoped>\n",
       "    .dataframe tbody tr th:only-of-type {\n",
       "        vertical-align: middle;\n",
       "    }\n",
       "\n",
       "    .dataframe tbody tr th {\n",
       "        vertical-align: top;\n",
       "    }\n",
       "\n",
       "    .dataframe thead th {\n",
       "        text-align: right;\n",
       "    }\n",
       "</style>\n",
       "<table border=\"1\" class=\"dataframe\">\n",
       "  <thead>\n",
       "    <tr style=\"text-align: right;\">\n",
       "      <th></th>\n",
       "      <th>male</th>\n",
       "      <th>age</th>\n",
       "      <th>education</th>\n",
       "      <th>currentSmoker</th>\n",
       "      <th>cigsPerDay</th>\n",
       "      <th>BPMeds</th>\n",
       "      <th>prevalentStroke</th>\n",
       "      <th>prevalentHyp</th>\n",
       "      <th>diabetes</th>\n",
       "      <th>totChol</th>\n",
       "      <th>sysBP</th>\n",
       "      <th>diaBP</th>\n",
       "      <th>BMI</th>\n",
       "      <th>heartRate</th>\n",
       "      <th>glucose</th>\n",
       "      <th>TenYearCHD</th>\n",
       "    </tr>\n",
       "  </thead>\n",
       "  <tbody>\n",
       "    <tr>\n",
       "      <th>0</th>\n",
       "      <td>Male</td>\n",
       "      <td>39</td>\n",
       "      <td>post grad</td>\n",
       "      <td>No</td>\n",
       "      <td>0.0</td>\n",
       "      <td>No</td>\n",
       "      <td>No</td>\n",
       "      <td>No</td>\n",
       "      <td>No</td>\n",
       "      <td>195.0</td>\n",
       "      <td>106.0</td>\n",
       "      <td>70.0</td>\n",
       "      <td>26.97</td>\n",
       "      <td>80.0</td>\n",
       "      <td>77.0</td>\n",
       "      <td>No</td>\n",
       "    </tr>\n",
       "    <tr>\n",
       "      <th>1</th>\n",
       "      <td>Female</td>\n",
       "      <td>46</td>\n",
       "      <td>Secondary Edu</td>\n",
       "      <td>No</td>\n",
       "      <td>0.0</td>\n",
       "      <td>No</td>\n",
       "      <td>No</td>\n",
       "      <td>No</td>\n",
       "      <td>No</td>\n",
       "      <td>250.0</td>\n",
       "      <td>121.0</td>\n",
       "      <td>81.0</td>\n",
       "      <td>28.73</td>\n",
       "      <td>95.0</td>\n",
       "      <td>76.0</td>\n",
       "      <td>No</td>\n",
       "    </tr>\n",
       "    <tr>\n",
       "      <th>2</th>\n",
       "      <td>Male</td>\n",
       "      <td>48</td>\n",
       "      <td>Primary Edu</td>\n",
       "      <td>Yes</td>\n",
       "      <td>20.0</td>\n",
       "      <td>No</td>\n",
       "      <td>No</td>\n",
       "      <td>No</td>\n",
       "      <td>No</td>\n",
       "      <td>245.0</td>\n",
       "      <td>127.5</td>\n",
       "      <td>80.0</td>\n",
       "      <td>25.34</td>\n",
       "      <td>75.0</td>\n",
       "      <td>70.0</td>\n",
       "      <td>No</td>\n",
       "    </tr>\n",
       "    <tr>\n",
       "      <th>3</th>\n",
       "      <td>Female</td>\n",
       "      <td>61</td>\n",
       "      <td>Tertiary Edu</td>\n",
       "      <td>Yes</td>\n",
       "      <td>30.0</td>\n",
       "      <td>No</td>\n",
       "      <td>No</td>\n",
       "      <td>Yes</td>\n",
       "      <td>No</td>\n",
       "      <td>225.0</td>\n",
       "      <td>150.0</td>\n",
       "      <td>95.0</td>\n",
       "      <td>28.58</td>\n",
       "      <td>65.0</td>\n",
       "      <td>103.0</td>\n",
       "      <td>Yes</td>\n",
       "    </tr>\n",
       "    <tr>\n",
       "      <th>4</th>\n",
       "      <td>Female</td>\n",
       "      <td>46</td>\n",
       "      <td>Tertiary Edu</td>\n",
       "      <td>Yes</td>\n",
       "      <td>23.0</td>\n",
       "      <td>No</td>\n",
       "      <td>No</td>\n",
       "      <td>No</td>\n",
       "      <td>No</td>\n",
       "      <td>285.0</td>\n",
       "      <td>130.0</td>\n",
       "      <td>84.0</td>\n",
       "      <td>23.10</td>\n",
       "      <td>85.0</td>\n",
       "      <td>85.0</td>\n",
       "      <td>No</td>\n",
       "    </tr>\n",
       "  </tbody>\n",
       "</table>\n",
       "</div>"
      ],
      "text/plain": [
       "     male  age      education currentSmoker  cigsPerDay BPMeds  \\\n",
       "0    Male   39      post grad            No         0.0     No   \n",
       "1  Female   46  Secondary Edu            No         0.0     No   \n",
       "2    Male   48    Primary Edu           Yes        20.0     No   \n",
       "3  Female   61   Tertiary Edu           Yes        30.0     No   \n",
       "4  Female   46   Tertiary Edu           Yes        23.0     No   \n",
       "\n",
       "  prevalentStroke prevalentHyp diabetes  totChol  sysBP  diaBP    BMI  \\\n",
       "0              No           No       No    195.0  106.0   70.0  26.97   \n",
       "1              No           No       No    250.0  121.0   81.0  28.73   \n",
       "2              No           No       No    245.0  127.5   80.0  25.34   \n",
       "3              No          Yes       No    225.0  150.0   95.0  28.58   \n",
       "4              No           No       No    285.0  130.0   84.0  23.10   \n",
       "\n",
       "   heartRate  glucose TenYearCHD  \n",
       "0       80.0     77.0         No  \n",
       "1       95.0     76.0         No  \n",
       "2       75.0     70.0         No  \n",
       "3       65.0    103.0        Yes  \n",
       "4       85.0     85.0         No  "
      ]
     },
     "execution_count": 8,
     "metadata": {},
     "output_type": "execute_result"
    }
   ],
   "source": [
    "df.head()"
   ]
  },
  {
   "cell_type": "code",
   "execution_count": 9,
   "id": "537988f1",
   "metadata": {},
   "outputs": [
    {
     "data": {
      "text/html": [
       "<div>\n",
       "<style scoped>\n",
       "    .dataframe tbody tr th:only-of-type {\n",
       "        vertical-align: middle;\n",
       "    }\n",
       "\n",
       "    .dataframe tbody tr th {\n",
       "        vertical-align: top;\n",
       "    }\n",
       "\n",
       "    .dataframe thead th {\n",
       "        text-align: right;\n",
       "    }\n",
       "</style>\n",
       "<table border=\"1\" class=\"dataframe\">\n",
       "  <thead>\n",
       "    <tr style=\"text-align: right;\">\n",
       "      <th></th>\n",
       "      <th>male</th>\n",
       "      <th>age</th>\n",
       "      <th>education</th>\n",
       "      <th>currentSmoker</th>\n",
       "      <th>cigsPerDay</th>\n",
       "      <th>BPMeds</th>\n",
       "      <th>prevalentStroke</th>\n",
       "      <th>prevalentHyp</th>\n",
       "      <th>diabetes</th>\n",
       "      <th>totChol</th>\n",
       "      <th>sysBP</th>\n",
       "      <th>diaBP</th>\n",
       "      <th>BMI</th>\n",
       "      <th>heartRate</th>\n",
       "      <th>glucose</th>\n",
       "      <th>TenYearCHD</th>\n",
       "    </tr>\n",
       "  </thead>\n",
       "  <tbody>\n",
       "    <tr>\n",
       "      <th>0</th>\n",
       "      <td>Male</td>\n",
       "      <td>39</td>\n",
       "      <td>post grad</td>\n",
       "      <td>No</td>\n",
       "      <td>0.0</td>\n",
       "      <td>No</td>\n",
       "      <td>No</td>\n",
       "      <td>No</td>\n",
       "      <td>No</td>\n",
       "      <td>195.0</td>\n",
       "      <td>106.0</td>\n",
       "      <td>70.0</td>\n",
       "      <td>26.97</td>\n",
       "      <td>80.0</td>\n",
       "      <td>77.0</td>\n",
       "      <td>No</td>\n",
       "    </tr>\n",
       "    <tr>\n",
       "      <th>1</th>\n",
       "      <td>Female</td>\n",
       "      <td>46</td>\n",
       "      <td>Secondary Edu</td>\n",
       "      <td>No</td>\n",
       "      <td>0.0</td>\n",
       "      <td>No</td>\n",
       "      <td>No</td>\n",
       "      <td>No</td>\n",
       "      <td>No</td>\n",
       "      <td>250.0</td>\n",
       "      <td>121.0</td>\n",
       "      <td>81.0</td>\n",
       "      <td>28.73</td>\n",
       "      <td>95.0</td>\n",
       "      <td>76.0</td>\n",
       "      <td>No</td>\n",
       "    </tr>\n",
       "    <tr>\n",
       "      <th>2</th>\n",
       "      <td>Male</td>\n",
       "      <td>48</td>\n",
       "      <td>Primary Edu</td>\n",
       "      <td>Yes</td>\n",
       "      <td>20.0</td>\n",
       "      <td>No</td>\n",
       "      <td>No</td>\n",
       "      <td>No</td>\n",
       "      <td>No</td>\n",
       "      <td>245.0</td>\n",
       "      <td>127.5</td>\n",
       "      <td>80.0</td>\n",
       "      <td>25.34</td>\n",
       "      <td>75.0</td>\n",
       "      <td>70.0</td>\n",
       "      <td>No</td>\n",
       "    </tr>\n",
       "  </tbody>\n",
       "</table>\n",
       "</div>"
      ],
      "text/plain": [
       "     male  age      education currentSmoker  cigsPerDay BPMeds  \\\n",
       "0    Male   39      post grad            No         0.0     No   \n",
       "1  Female   46  Secondary Edu            No         0.0     No   \n",
       "2    Male   48    Primary Edu           Yes        20.0     No   \n",
       "\n",
       "  prevalentStroke prevalentHyp diabetes  totChol  sysBP  diaBP    BMI  \\\n",
       "0              No           No       No    195.0  106.0   70.0  26.97   \n",
       "1              No           No       No    250.0  121.0   81.0  28.73   \n",
       "2              No           No       No    245.0  127.5   80.0  25.34   \n",
       "\n",
       "   heartRate  glucose TenYearCHD  \n",
       "0       80.0     77.0         No  \n",
       "1       95.0     76.0         No  \n",
       "2       75.0     70.0         No  "
      ]
     },
     "execution_count": 9,
     "metadata": {},
     "output_type": "execute_result"
    }
   ],
   "source": [
    "df.head(3)"
   ]
  },
  {
   "cell_type": "markdown",
   "id": "ec5f98a1",
   "metadata": {},
   "source": [
    "Exploratory Data Analysis (EDA)"
   ]
  },
  {
   "cell_type": "code",
   "execution_count": 5,
   "id": "a7672a4f",
   "metadata": {},
   "outputs": [
    {
     "name": "stdout",
     "output_type": "stream",
     "text": [
      "<class 'pandas.core.frame.DataFrame'>\n",
      "RangeIndex: 3671 entries, 0 to 3670\n",
      "Data columns (total 17 columns):\n",
      " #   Column           Non-Null Count  Dtype  \n",
      "---  ------           --------------  -----  \n",
      " 0   male             3671 non-null   object \n",
      " 1   age              3671 non-null   int64  \n",
      " 2   age_group        3671 non-null   object \n",
      " 3   education        3671 non-null   int64  \n",
      " 4   currentSmoker    3671 non-null   object \n",
      " 5   cigsPerDay       3671 non-null   int64  \n",
      " 6   BPMeds           3671 non-null   object \n",
      " 7   prevalentStroke  3671 non-null   object \n",
      " 8   prevalentHyp     3671 non-null   object \n",
      " 9   diabetes         3671 non-null   object \n",
      " 10  totChol          3671 non-null   int64  \n",
      " 11  sysBP            3671 non-null   float64\n",
      " 12  diaBP            3671 non-null   float64\n",
      " 13  BMI              3658 non-null   float64\n",
      " 14  heartRate        3671 non-null   int64  \n",
      " 15  glucose          3671 non-null   int64  \n",
      " 16  TenYearCHD       3671 non-null   object \n",
      "dtypes: float64(3), int64(6), object(8)\n",
      "memory usage: 487.7+ KB\n"
     ]
    }
   ],
   "source": [
    "df.info()"
   ]
  },
  {
   "cell_type": "code",
   "execution_count": 11,
   "id": "c2bc2855",
   "metadata": {},
   "outputs": [
    {
     "data": {
      "text/plain": [
       "male                 0\n",
       "age                  0\n",
       "education          105\n",
       "currentSmoker        0\n",
       "cigsPerDay          29\n",
       "BPMeds              53\n",
       "prevalentStroke      0\n",
       "prevalentHyp         0\n",
       "diabetes             0\n",
       "totChol             50\n",
       "sysBP                0\n",
       "diaBP                0\n",
       "BMI                 19\n",
       "heartRate            1\n",
       "glucose            388\n",
       "TenYearCHD           0\n",
       "dtype: int64"
      ]
     },
     "execution_count": 11,
     "metadata": {},
     "output_type": "execute_result"
    }
   ],
   "source": [
    "df.isnull().sum()"
   ]
  },
  {
   "cell_type": "code",
   "execution_count": 14,
   "id": "1eed942e",
   "metadata": {},
   "outputs": [
    {
     "data": {
      "text/plain": [
       "Index(['male', 'age', 'education', 'currentSmoker', 'cigsPerDay', 'BPMeds',\n",
       "       'prevalentStroke', 'prevalentHyp', 'diabetes', 'totChol', 'sysBP',\n",
       "       'diaBP', 'BMI', 'heartRate', 'glucose', 'TenYearCHD'],\n",
       "      dtype='object')"
      ]
     },
     "execution_count": 14,
     "metadata": {},
     "output_type": "execute_result"
    }
   ],
   "source": [
    "df.columns"
   ]
  },
  {
   "cell_type": "code",
   "execution_count": 12,
   "id": "d7b45f69",
   "metadata": {},
   "outputs": [
    {
     "data": {
      "text/html": [
       "<div>\n",
       "<style scoped>\n",
       "    .dataframe tbody tr th:only-of-type {\n",
       "        vertical-align: middle;\n",
       "    }\n",
       "\n",
       "    .dataframe tbody tr th {\n",
       "        vertical-align: top;\n",
       "    }\n",
       "\n",
       "    .dataframe thead th {\n",
       "        text-align: right;\n",
       "    }\n",
       "</style>\n",
       "<table border=\"1\" class=\"dataframe\">\n",
       "  <thead>\n",
       "    <tr style=\"text-align: right;\">\n",
       "      <th></th>\n",
       "      <th>gender</th>\n",
       "      <th>age</th>\n",
       "      <th>education</th>\n",
       "      <th>currentSmoker</th>\n",
       "      <th>cigsPerDay</th>\n",
       "      <th>BPMeds</th>\n",
       "      <th>prevalentStroke</th>\n",
       "      <th>prevalentHyp</th>\n",
       "      <th>diabetes</th>\n",
       "      <th>totChol</th>\n",
       "      <th>sysBP</th>\n",
       "      <th>diaBP</th>\n",
       "      <th>BMI</th>\n",
       "      <th>heartRate</th>\n",
       "      <th>glucose</th>\n",
       "      <th>TenYearCHD</th>\n",
       "    </tr>\n",
       "  </thead>\n",
       "  <tbody>\n",
       "    <tr>\n",
       "      <th>0</th>\n",
       "      <td>Male</td>\n",
       "      <td>39</td>\n",
       "      <td>post grad</td>\n",
       "      <td>No</td>\n",
       "      <td>0.0</td>\n",
       "      <td>No</td>\n",
       "      <td>No</td>\n",
       "      <td>No</td>\n",
       "      <td>No</td>\n",
       "      <td>195.0</td>\n",
       "      <td>106.0</td>\n",
       "      <td>70.0</td>\n",
       "      <td>26.97</td>\n",
       "      <td>80.0</td>\n",
       "      <td>77.0</td>\n",
       "      <td>No</td>\n",
       "    </tr>\n",
       "    <tr>\n",
       "      <th>1</th>\n",
       "      <td>Female</td>\n",
       "      <td>46</td>\n",
       "      <td>Secondary Edu</td>\n",
       "      <td>No</td>\n",
       "      <td>0.0</td>\n",
       "      <td>No</td>\n",
       "      <td>No</td>\n",
       "      <td>No</td>\n",
       "      <td>No</td>\n",
       "      <td>250.0</td>\n",
       "      <td>121.0</td>\n",
       "      <td>81.0</td>\n",
       "      <td>28.73</td>\n",
       "      <td>95.0</td>\n",
       "      <td>76.0</td>\n",
       "      <td>No</td>\n",
       "    </tr>\n",
       "    <tr>\n",
       "      <th>2</th>\n",
       "      <td>Male</td>\n",
       "      <td>48</td>\n",
       "      <td>Primary Edu</td>\n",
       "      <td>Yes</td>\n",
       "      <td>20.0</td>\n",
       "      <td>No</td>\n",
       "      <td>No</td>\n",
       "      <td>No</td>\n",
       "      <td>No</td>\n",
       "      <td>245.0</td>\n",
       "      <td>127.5</td>\n",
       "      <td>80.0</td>\n",
       "      <td>25.34</td>\n",
       "      <td>75.0</td>\n",
       "      <td>70.0</td>\n",
       "      <td>No</td>\n",
       "    </tr>\n",
       "    <tr>\n",
       "      <th>3</th>\n",
       "      <td>Female</td>\n",
       "      <td>61</td>\n",
       "      <td>Tertiary Edu</td>\n",
       "      <td>Yes</td>\n",
       "      <td>30.0</td>\n",
       "      <td>No</td>\n",
       "      <td>No</td>\n",
       "      <td>Yes</td>\n",
       "      <td>No</td>\n",
       "      <td>225.0</td>\n",
       "      <td>150.0</td>\n",
       "      <td>95.0</td>\n",
       "      <td>28.58</td>\n",
       "      <td>65.0</td>\n",
       "      <td>103.0</td>\n",
       "      <td>Yes</td>\n",
       "    </tr>\n",
       "    <tr>\n",
       "      <th>4</th>\n",
       "      <td>Female</td>\n",
       "      <td>46</td>\n",
       "      <td>Tertiary Edu</td>\n",
       "      <td>Yes</td>\n",
       "      <td>23.0</td>\n",
       "      <td>No</td>\n",
       "      <td>No</td>\n",
       "      <td>No</td>\n",
       "      <td>No</td>\n",
       "      <td>285.0</td>\n",
       "      <td>130.0</td>\n",
       "      <td>84.0</td>\n",
       "      <td>23.10</td>\n",
       "      <td>85.0</td>\n",
       "      <td>85.0</td>\n",
       "      <td>No</td>\n",
       "    </tr>\n",
       "    <tr>\n",
       "      <th>...</th>\n",
       "      <td>...</td>\n",
       "      <td>...</td>\n",
       "      <td>...</td>\n",
       "      <td>...</td>\n",
       "      <td>...</td>\n",
       "      <td>...</td>\n",
       "      <td>...</td>\n",
       "      <td>...</td>\n",
       "      <td>...</td>\n",
       "      <td>...</td>\n",
       "      <td>...</td>\n",
       "      <td>...</td>\n",
       "      <td>...</td>\n",
       "      <td>...</td>\n",
       "      <td>...</td>\n",
       "      <td>...</td>\n",
       "    </tr>\n",
       "    <tr>\n",
       "      <th>4235</th>\n",
       "      <td>Female</td>\n",
       "      <td>48</td>\n",
       "      <td>Secondary Edu</td>\n",
       "      <td>Yes</td>\n",
       "      <td>20.0</td>\n",
       "      <td>NaN</td>\n",
       "      <td>No</td>\n",
       "      <td>No</td>\n",
       "      <td>No</td>\n",
       "      <td>248.0</td>\n",
       "      <td>131.0</td>\n",
       "      <td>72.0</td>\n",
       "      <td>22.00</td>\n",
       "      <td>84.0</td>\n",
       "      <td>86.0</td>\n",
       "      <td>No</td>\n",
       "    </tr>\n",
       "    <tr>\n",
       "      <th>4236</th>\n",
       "      <td>Female</td>\n",
       "      <td>44</td>\n",
       "      <td>Primary Edu</td>\n",
       "      <td>Yes</td>\n",
       "      <td>15.0</td>\n",
       "      <td>No</td>\n",
       "      <td>No</td>\n",
       "      <td>No</td>\n",
       "      <td>No</td>\n",
       "      <td>210.0</td>\n",
       "      <td>126.5</td>\n",
       "      <td>87.0</td>\n",
       "      <td>19.16</td>\n",
       "      <td>86.0</td>\n",
       "      <td>NaN</td>\n",
       "      <td>No</td>\n",
       "    </tr>\n",
       "    <tr>\n",
       "      <th>4237</th>\n",
       "      <td>Female</td>\n",
       "      <td>52</td>\n",
       "      <td>Secondary Edu</td>\n",
       "      <td>No</td>\n",
       "      <td>0.0</td>\n",
       "      <td>No</td>\n",
       "      <td>No</td>\n",
       "      <td>No</td>\n",
       "      <td>No</td>\n",
       "      <td>269.0</td>\n",
       "      <td>133.5</td>\n",
       "      <td>83.0</td>\n",
       "      <td>21.47</td>\n",
       "      <td>80.0</td>\n",
       "      <td>107.0</td>\n",
       "      <td>No</td>\n",
       "    </tr>\n",
       "    <tr>\n",
       "      <th>4238</th>\n",
       "      <td>Male</td>\n",
       "      <td>40</td>\n",
       "      <td>Tertiary Edu</td>\n",
       "      <td>No</td>\n",
       "      <td>0.0</td>\n",
       "      <td>No</td>\n",
       "      <td>No</td>\n",
       "      <td>Yes</td>\n",
       "      <td>No</td>\n",
       "      <td>185.0</td>\n",
       "      <td>141.0</td>\n",
       "      <td>98.0</td>\n",
       "      <td>25.60</td>\n",
       "      <td>67.0</td>\n",
       "      <td>72.0</td>\n",
       "      <td>No</td>\n",
       "    </tr>\n",
       "    <tr>\n",
       "      <th>4239</th>\n",
       "      <td>Female</td>\n",
       "      <td>39</td>\n",
       "      <td>Tertiary Edu</td>\n",
       "      <td>Yes</td>\n",
       "      <td>30.0</td>\n",
       "      <td>No</td>\n",
       "      <td>No</td>\n",
       "      <td>No</td>\n",
       "      <td>No</td>\n",
       "      <td>196.0</td>\n",
       "      <td>133.0</td>\n",
       "      <td>86.0</td>\n",
       "      <td>20.91</td>\n",
       "      <td>85.0</td>\n",
       "      <td>80.0</td>\n",
       "      <td>No</td>\n",
       "    </tr>\n",
       "  </tbody>\n",
       "</table>\n",
       "<p>4240 rows × 16 columns</p>\n",
       "</div>"
      ],
      "text/plain": [
       "      gender  age      education currentSmoker  cigsPerDay BPMeds  \\\n",
       "0       Male   39      post grad            No         0.0     No   \n",
       "1     Female   46  Secondary Edu            No         0.0     No   \n",
       "2       Male   48    Primary Edu           Yes        20.0     No   \n",
       "3     Female   61   Tertiary Edu           Yes        30.0     No   \n",
       "4     Female   46   Tertiary Edu           Yes        23.0     No   \n",
       "...      ...  ...            ...           ...         ...    ...   \n",
       "4235  Female   48  Secondary Edu           Yes        20.0    NaN   \n",
       "4236  Female   44    Primary Edu           Yes        15.0     No   \n",
       "4237  Female   52  Secondary Edu            No         0.0     No   \n",
       "4238    Male   40   Tertiary Edu            No         0.0     No   \n",
       "4239  Female   39   Tertiary Edu           Yes        30.0     No   \n",
       "\n",
       "     prevalentStroke prevalentHyp diabetes  totChol  sysBP  diaBP    BMI  \\\n",
       "0                 No           No       No    195.0  106.0   70.0  26.97   \n",
       "1                 No           No       No    250.0  121.0   81.0  28.73   \n",
       "2                 No           No       No    245.0  127.5   80.0  25.34   \n",
       "3                 No          Yes       No    225.0  150.0   95.0  28.58   \n",
       "4                 No           No       No    285.0  130.0   84.0  23.10   \n",
       "...              ...          ...      ...      ...    ...    ...    ...   \n",
       "4235              No           No       No    248.0  131.0   72.0  22.00   \n",
       "4236              No           No       No    210.0  126.5   87.0  19.16   \n",
       "4237              No           No       No    269.0  133.5   83.0  21.47   \n",
       "4238              No          Yes       No    185.0  141.0   98.0  25.60   \n",
       "4239              No           No       No    196.0  133.0   86.0  20.91   \n",
       "\n",
       "      heartRate  glucose TenYearCHD  \n",
       "0          80.0     77.0         No  \n",
       "1          95.0     76.0         No  \n",
       "2          75.0     70.0         No  \n",
       "3          65.0    103.0        Yes  \n",
       "4          85.0     85.0         No  \n",
       "...         ...      ...        ...  \n",
       "4235       84.0     86.0         No  \n",
       "4236       86.0      NaN         No  \n",
       "4237       80.0    107.0         No  \n",
       "4238       67.0     72.0         No  \n",
       "4239       85.0     80.0         No  \n",
       "\n",
       "[4240 rows x 16 columns]"
      ]
     },
     "execution_count": 12,
     "metadata": {},
     "output_type": "execute_result"
    }
   ],
   "source": [
    "#Change column name (MAle) to Gender\n",
    "df.rename(columns ={\"male\":\"gender\"})"
   ]
  },
  {
   "cell_type": "code",
   "execution_count": 17,
   "id": "44da1006",
   "metadata": {},
   "outputs": [],
   "source": [
    "#Change column name (MAle) to Gender, add implace for the changes to show.\n",
    "df.rename(columns ={\"male\":\"gender\"}, inplace = True )"
   ]
  },
  {
   "cell_type": "code",
   "execution_count": 18,
   "id": "0147e071",
   "metadata": {},
   "outputs": [
    {
     "data": {
      "text/plain": [
       "(4240, 16)"
      ]
     },
     "execution_count": 18,
     "metadata": {},
     "output_type": "execute_result"
    }
   ],
   "source": [
    "df.shape"
   ]
  },
  {
   "cell_type": "code",
   "execution_count": 19,
   "id": "9c35b52d",
   "metadata": {},
   "outputs": [
    {
     "data": {
      "text/plain": [
       "Index(['gender', 'age', 'education', 'currentSmoker', 'cigsPerDay', 'BPMeds',\n",
       "       'prevalentStroke', 'prevalentHyp', 'diabetes', 'totChol', 'sysBP',\n",
       "       'diaBP', 'BMI', 'heartRate', 'glucose', 'TenYearCHD'],\n",
       "      dtype='object')"
      ]
     },
     "execution_count": 19,
     "metadata": {},
     "output_type": "execute_result"
    }
   ],
   "source": [
    "df.columns"
   ]
  },
  {
   "cell_type": "code",
   "execution_count": 13,
   "id": "d2e05d07",
   "metadata": {},
   "outputs": [
    {
     "name": "stdout",
     "output_type": "stream",
     "text": [
      "education\n",
      "cigsPerDay\n",
      "BPMeds\n",
      "totChol\n",
      "BMI\n",
      "heartRate\n",
      "glucose\n"
     ]
    }
   ],
   "source": [
    "for col in df.columns:\n",
    "    if df[col].isnull().sum() >0:\n",
    "        print(col)"
   ]
  },
  {
   "cell_type": "code",
   "execution_count": 21,
   "id": "a33fa806",
   "metadata": {},
   "outputs": [
    {
     "name": "stdout",
     "output_type": "stream",
     "text": [
      "education 105\n",
      "cigsPerDay 29\n",
      "BPMeds 53\n",
      "totChol 50\n",
      "BMI 19\n",
      "heartRate 1\n",
      "glucose 388\n"
     ]
    }
   ],
   "source": [
    "for col in df.columns:\n",
    "    if df[col].isnull().sum() >0:\n",
    "        print(col,df[col].isnull().sum())"
   ]
  },
  {
   "cell_type": "code",
   "execution_count": 22,
   "id": "c38a5ff0",
   "metadata": {},
   "outputs": [
    {
     "data": {
      "text/plain": [
       "0           post grad\n",
       "1       Secondary Edu\n",
       "2         Primary Edu\n",
       "3        Tertiary Edu\n",
       "4        Tertiary Edu\n",
       "            ...      \n",
       "4235    Secondary Edu\n",
       "4236      Primary Edu\n",
       "4237    Secondary Edu\n",
       "4238     Tertiary Edu\n",
       "4239     Tertiary Edu\n",
       "Name: education, Length: 4240, dtype: object"
      ]
     },
     "execution_count": 22,
     "metadata": {},
     "output_type": "execute_result"
    }
   ],
   "source": [
    "df[\"education\"]"
   ]
  },
  {
   "cell_type": "code",
   "execution_count": 23,
   "id": "e1b5a85a",
   "metadata": {},
   "outputs": [
    {
     "data": {
      "text/plain": [
       "0           post grad\n",
       "1       Secondary Edu\n",
       "2         Primary Edu\n",
       "3        Tertiary Edu\n",
       "4        Tertiary Edu\n",
       "            ...      \n",
       "4235    Secondary Edu\n",
       "4236      Primary Edu\n",
       "4237    Secondary Edu\n",
       "4238     Tertiary Edu\n",
       "4239     Tertiary Edu\n",
       "Name: education, Length: 4240, dtype: object"
      ]
     },
     "execution_count": 23,
     "metadata": {},
     "output_type": "execute_result"
    }
   ],
   "source": [
    "df[\"education\"].fillna(\"Primary Edu\")"
   ]
  },
  {
   "cell_type": "code",
   "execution_count": 24,
   "id": "d01afbac",
   "metadata": {},
   "outputs": [
    {
     "data": {
      "text/plain": [
       "array(['post grad', 'Secondary Edu', 'Primary Edu', 'Tertiary Edu', nan],\n",
       "      dtype=object)"
      ]
     },
     "execution_count": 24,
     "metadata": {},
     "output_type": "execute_result"
    }
   ],
   "source": [
    "df[\"education\"].unique() #post grad is first because it started with small letter"
   ]
  },
  {
   "cell_type": "code",
   "execution_count": 25,
   "id": "8b096b4b",
   "metadata": {},
   "outputs": [
    {
     "data": {
      "text/plain": [
       "'Primary Edu'"
      ]
     },
     "execution_count": 25,
     "metadata": {},
     "output_type": "execute_result"
    }
   ],
   "source": [
    "df[\"education\"].mode()[0]"
   ]
  },
  {
   "cell_type": "code",
   "execution_count": 28,
   "id": "48250458",
   "metadata": {},
   "outputs": [],
   "source": [
    "df[\"education\"].fillna(df[\"education\"].mode()[0],inplace = True)"
   ]
  },
  {
   "cell_type": "code",
   "execution_count": null,
   "id": "d417aa81",
   "metadata": {},
   "outputs": [],
   "source": [
    "df[\"education\"]=df.[\"education\"].fillna(df[\"education].mode()[0], inplace =True)"
   ]
  },
  {
   "cell_type": "code",
   "execution_count": 31,
   "id": "5a000b19",
   "metadata": {},
   "outputs": [
    {
     "data": {
      "text/plain": [
       "0"
      ]
     },
     "execution_count": 31,
     "metadata": {},
     "output_type": "execute_result"
    }
   ],
   "source": [
    "df[\"education\"].isnull().sum()"
   ]
  },
  {
   "cell_type": "code",
   "execution_count": 34,
   "id": "86ecda2b",
   "metadata": {},
   "outputs": [
    {
     "data": {
      "text/plain": [
       "<Axes: >"
      ]
     },
     "execution_count": 34,
     "metadata": {},
     "output_type": "execute_result"
    },
    {
     "data": {
      "image/png": "[encoded data removed]",
      "text/plain": [
       "<Figure size 640x480 with 1 Axes>"
      ]
     },
     "metadata": {},
     "output_type": "display_data"
    }
   ],
   "source": [
    "# df.cigsPerDay.plot(kind = \"hist\") / df.cigsPerDay.plot(kind = \"hist\", grid = True)\n",
    "df.cigsPerDay.hist()  #This will show grid automatically "
   ]
  },
  {
   "cell_type": "code",
   "execution_count": 35,
   "id": "cad29e8c",
   "metadata": {},
   "outputs": [
    {
     "data": {
      "text/plain": [
       "count    4211.000000\n",
       "mean        9.005937\n",
       "std        11.922462\n",
       "min         0.000000\n",
       "25%         0.000000\n",
       "50%         0.000000\n",
       "75%        20.000000\n",
       "max        70.000000\n",
       "Name: cigsPerDay, dtype: float64"
      ]
     },
     "execution_count": 35,
     "metadata": {},
     "output_type": "execute_result"
    }
   ],
   "source": [
    "df.cigsPerDay.describe()"
   ]
  },
  {
   "cell_type": "code",
   "execution_count": 36,
   "id": "859322f9",
   "metadata": {},
   "outputs": [
    {
     "data": {
      "text/plain": [
       "0.0"
      ]
     },
     "execution_count": 36,
     "metadata": {},
     "output_type": "execute_result"
    }
   ],
   "source": [
    "df.cigsPerDay.median()"
   ]
  },
  {
   "cell_type": "code",
   "execution_count": 37,
   "id": "59f59311",
   "metadata": {},
   "outputs": [
    {
     "data": {
      "text/plain": [
       "count    4240.000000\n",
       "mean       49.580189\n",
       "std         8.572942\n",
       "min        32.000000\n",
       "25%        42.000000\n",
       "50%        49.000000\n",
       "75%        56.000000\n",
       "max        70.000000\n",
       "Name: age, dtype: float64"
      ]
     },
     "execution_count": 37,
     "metadata": {},
     "output_type": "execute_result"
    }
   ],
   "source": [
    "df.age.describe()"
   ]
  },
  {
   "cell_type": "code",
   "execution_count": 43,
   "id": "ff4c3c83",
   "metadata": {},
   "outputs": [],
   "source": [
    "df[\"cigsPerDay\"]=df[\"cigsPerDay\"].fillna(df[\"cigsPerDay\"].median())"
   ]
  },
  {
   "cell_type": "code",
   "execution_count": 45,
   "id": "61940f00",
   "metadata": {},
   "outputs": [
    {
     "data": {
      "text/plain": [
       "0"
      ]
     },
     "execution_count": 45,
     "metadata": {},
     "output_type": "execute_result"
    }
   ],
   "source": [
    "df.cigsPerDay.isnull().sum()"
   ]
  },
  {
   "cell_type": "code",
   "execution_count": null,
   "id": "791dc2da",
   "metadata": {},
   "outputs": [],
   "source": [
    "df.cigsPerDay.fillna(df.cigsPerDay.mean(), inplace =True)"
   ]
  },
  {
   "cell_type": "code",
   "execution_count": 48,
   "id": "75e8b409",
   "metadata": {},
   "outputs": [],
   "source": [
    "df[\"BPMeds\"]=df[\"BPMeds\"].fillna(df[\"BPMeds\"].mode()[0])"
   ]
  },
  {
   "cell_type": "code",
   "execution_count": 49,
   "id": "ab546814",
   "metadata": {},
   "outputs": [
    {
     "data": {
      "text/plain": [
       "0"
      ]
     },
     "execution_count": 49,
     "metadata": {},
     "output_type": "execute_result"
    }
   ],
   "source": [
    "df.BPMeds.isnull().sum()"
   ]
  },
  {
   "cell_type": "code",
   "execution_count": 50,
   "id": "0f03ab7a",
   "metadata": {},
   "outputs": [
    {
     "data": {
      "text/plain": [
       "BPMeds\n",
       "No     4116\n",
       "Yes     124\n",
       "Name: count, dtype: int64"
      ]
     },
     "execution_count": 50,
     "metadata": {},
     "output_type": "execute_result"
    }
   ],
   "source": [
    "df.BPMeds.value_counts()"
   ]
  },
  {
   "cell_type": "code",
   "execution_count": 51,
   "id": "7f7217e2",
   "metadata": {},
   "outputs": [
    {
     "data": {
      "text/plain": [
       "count    4190.000000\n",
       "mean      236.699523\n",
       "std        44.591284\n",
       "min       107.000000\n",
       "25%       206.000000\n",
       "50%       234.000000\n",
       "75%       263.000000\n",
       "max       696.000000\n",
       "Name: totChol, dtype: float64"
      ]
     },
     "execution_count": 51,
     "metadata": {},
     "output_type": "execute_result"
    }
   ],
   "source": [
    " #Check your datasets, if it;s numerical you'll use mean or median but to use mean, \n",
    "    #your STD must be lower to your mean if not use your median\n",
    "df.totChol.describe()"
   ]
  },
  {
   "cell_type": "code",
   "execution_count": 52,
   "id": "5617ff65",
   "metadata": {},
   "outputs": [],
   "source": [
    "df.totChol.fillna(df.totChol.mean(), inplace =True)"
   ]
  },
  {
   "cell_type": "code",
   "execution_count": 53,
   "id": "9ab9c770",
   "metadata": {},
   "outputs": [
    {
     "data": {
      "text/plain": [
       "count    4221.000000\n",
       "mean       25.800801\n",
       "std         4.079840\n",
       "min        15.540000\n",
       "25%        23.070000\n",
       "50%        25.400000\n",
       "75%        28.040000\n",
       "max        56.800000\n",
       "Name: BMI, dtype: float64"
      ]
     },
     "execution_count": 53,
     "metadata": {},
     "output_type": "execute_result"
    }
   ],
   "source": [
    "df.BMI.describe()"
   ]
  },
  {
   "cell_type": "code",
   "execution_count": 54,
   "id": "b6d0a497",
   "metadata": {},
   "outputs": [],
   "source": [
    "df.BMI.fillna(df.BMI.mean(), inplace =True)"
   ]
  },
  {
   "cell_type": "code",
   "execution_count": 55,
   "id": "fd9ba30a",
   "metadata": {},
   "outputs": [
    {
     "data": {
      "text/plain": [
       "count    4239.000000\n",
       "mean       75.878981\n",
       "std        12.025348\n",
       "min        44.000000\n",
       "25%        68.000000\n",
       "50%        75.000000\n",
       "75%        83.000000\n",
       "max       143.000000\n",
       "Name: heartRate, dtype: float64"
      ]
     },
     "execution_count": 55,
     "metadata": {},
     "output_type": "execute_result"
    }
   ],
   "source": [
    "df.heartRate.describe()"
   ]
  },
  {
   "cell_type": "code",
   "execution_count": 56,
   "id": "06bf64ec",
   "metadata": {},
   "outputs": [],
   "source": [
    "df.heartRate.fillna(df.heartRate.mean(), inplace =True)"
   ]
  },
  {
   "cell_type": "code",
   "execution_count": 58,
   "id": "b0506138",
   "metadata": {},
   "outputs": [
    {
     "data": {
      "text/plain": [
       "count    3852.000000\n",
       "mean       81.963655\n",
       "std        23.954335\n",
       "min        40.000000\n",
       "25%        71.000000\n",
       "50%        78.000000\n",
       "75%        87.000000\n",
       "max       394.000000\n",
       "Name: glucose, dtype: float64"
      ]
     },
     "execution_count": 58,
     "metadata": {},
     "output_type": "execute_result"
    }
   ],
   "source": [
    "df.glucose.describe()"
   ]
  },
  {
   "cell_type": "code",
   "execution_count": 59,
   "id": "af3adeb9",
   "metadata": {},
   "outputs": [],
   "source": [
    "df.glucose.fillna(df.glucose.mean(), inplace =True)"
   ]
  },
  {
   "cell_type": "code",
   "execution_count": 60,
   "id": "96e39919",
   "metadata": {},
   "outputs": [
    {
     "data": {
      "text/plain": [
       "gender             0\n",
       "age                0\n",
       "education          0\n",
       "currentSmoker      0\n",
       "cigsPerDay         0\n",
       "BPMeds             0\n",
       "prevalentStroke    0\n",
       "prevalentHyp       0\n",
       "diabetes           0\n",
       "totChol            0\n",
       "sysBP              0\n",
       "diaBP              0\n",
       "BMI                0\n",
       "heartRate          0\n",
       "glucose            0\n",
       "TenYearCHD         0\n",
       "dtype: int64"
      ]
     },
     "execution_count": 60,
     "metadata": {},
     "output_type": "execute_result"
    }
   ],
   "source": [
    "df.isnull().sum()"
   ]
  },
  {
   "cell_type": "code",
   "execution_count": 17,
   "id": "a40b859e",
   "metadata": {},
   "outputs": [],
   "source": [
    "#Another Method to replace\n",
    "cigs_mean = df[\"cigsPerDay\"].mean()"
   ]
  },
  {
   "cell_type": "code",
   "execution_count": 18,
   "id": "2acab4a1",
   "metadata": {},
   "outputs": [],
   "source": [
    "cigs_std = df[\"cigsPerDay\"].std()"
   ]
  },
  {
   "cell_type": "code",
   "execution_count": 7,
   "id": "910a8905",
   "metadata": {},
   "outputs": [],
   "source": [
    "cigs_median = df[\"cigsPerDay\"].median()"
   ]
  },
  {
   "cell_type": "code",
   "execution_count": null,
   "id": "bbd5fd7b",
   "metadata": {},
   "outputs": [],
   "source": [
    "# df.cigerPerDay.fillna(df., inplace = True)"
   ]
  },
  {
   "cell_type": "code",
   "execution_count": 8,
   "id": "242b0bdd",
   "metadata": {},
   "outputs": [],
   "source": [
    "# replace_value = 0\n",
    "if df.totChol.std() > df.totChol.mean():\n",
    "    replace_value = df.totChol.median()\n",
    "else:\n",
    "    replace_value = df.totChol.mean()"
   ]
  },
  {
   "cell_type": "code",
   "execution_count": 9,
   "id": "70ebcd73",
   "metadata": {},
   "outputs": [
    {
     "data": {
      "text/plain": [
       "236.69952267303103"
      ]
     },
     "execution_count": 9,
     "metadata": {},
     "output_type": "execute_result"
    }
   ],
   "source": [
    "replace_value"
   ]
  },
  {
   "cell_type": "code",
   "execution_count": 19,
   "id": "559d9d26",
   "metadata": {
    "scrolled": true
   },
   "outputs": [],
   "source": [
    "if cigs_mean > cigs_std in df [\"cigsPerDay\"]:\n",
    "    df[\"cigsPerDay\"].fillna(df[\"cigsPerDay\"].mean(), inplace = True)\n",
    "else:\n",
    "    df[\"cigsPerDay\"].fillna(df[\"cigsPerDay\"].median(), inplace = True)"
   ]
  },
  {
   "cell_type": "code",
   "execution_count": 20,
   "id": "45cd526d",
   "metadata": {},
   "outputs": [],
   "source": [
    "if df[\"cigsPerDay\"].mean() > df[\"cigsPerDay\"].std() in df[\"cigsPerDay\"]:\n",
    "    df[\"cigsPerDay\"].fillna(df[\"cigsPerDay\"].mean())\n",
    "else:\n",
    "    df[\"cigsPerDay\"].fillna(df[\"cigsPerDay\"].median())"
   ]
  },
  {
   "cell_type": "code",
   "execution_count": 12,
   "id": "72ff5745",
   "metadata": {},
   "outputs": [
    {
     "data": {
      "text/plain": [
       "male                 0\n",
       "age                  0\n",
       "education          105\n",
       "currentSmoker        0\n",
       "cigsPerDay          29\n",
       "BPMeds              53\n",
       "prevalentStroke      0\n",
       "prevalentHyp         0\n",
       "diabetes             0\n",
       "totChol             50\n",
       "sysBP                0\n",
       "diaBP                0\n",
       "BMI                 19\n",
       "heartRate            1\n",
       "glucose            388\n",
       "TenYearCHD           0\n",
       "dtype: int64"
      ]
     },
     "execution_count": 12,
     "metadata": {},
     "output_type": "execute_result"
    }
   ],
   "source": [
    "df.isnull().sum()"
   ]
  },
  {
   "cell_type": "code",
   "execution_count": null,
   "id": "80eeb100",
   "metadata": {},
   "outputs": [],
   "source": []
  }
 ],
 "metadata": {
  "kernelspec": {
   "display_name": "Python 3 (ipykernel)",
   "language": "python",
   "name": "python3"
  },
  "language_info": {
   "codemirror_mode": {
    "name": "ipython",
    "version": 3
   },
   "file_extension": ".py",
   "mimetype": "text/x-python",
   "name": "python",
   "nbconvert_exporter": "python",
   "pygments_lexer": "ipython3",
   "version": "3.11.5"
  }
 },
 "nbformat": 4,
 "nbformat_minor": 5
}
