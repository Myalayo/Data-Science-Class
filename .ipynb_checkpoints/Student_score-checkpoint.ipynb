{
 "cells": [
  {
   "cell_type": "code",
   "execution_count": 2,
   "id": "c28927aa",
   "metadata": {},
   "outputs": [
    {
     "data": {
      "text/plain": [
       "[{'StudentID': 'Student1', 'Scores': {'Q1': 14, 'Q3': 19, 'Q4': 5, 'Q6': 5}},\n",
       " {'StudentID': 'Student2', 'Scores': {'Q2': 14, 'Q3': 7, 'Q7': 18, 'Q4': 2}},\n",
       " {'StudentID': 'Student3', 'Scores': {'Q2': 17, 'Q8': 0, 'Q5': 3, 'Q6': 2}},\n",
       " {'StudentID': 'Student4', 'Scores': {'Q2': 2, 'Q4': 9, 'Q8': 12, 'Q5': 7}},\n",
       " {'StudentID': 'Student5', 'Scores': {'Q2': 15, 'Q5': 16, 'Q3': 12, 'Q4': 5}},\n",
       " {'StudentID': 'Student6', 'Scores': {'Q2': 16, 'Q7': 16, 'Q6': 15, 'Q8': 20}},\n",
       " {'StudentID': 'Student7', 'Scores': {'Q2': 8, 'Q8': 9, 'Q7': 14, 'Q3': 2}},\n",
       " {'StudentID': 'Student8', 'Scores': {'Q2': 4, 'Q8': 11, 'Q6': 8, 'Q5': 7}},\n",
       " {'StudentID': 'Student9', 'Scores': {'Q2': 18, 'Q5': 4, 'Q4': 1, 'Q8': 4}},\n",
       " {'StudentID': 'Student10', 'Scores': {'Q1': 15, 'Q5': 12, 'Q7': 13, 'Q8': 9}},\n",
       " {'StudentID': 'Student11', 'Scores': {'Q2': 8, 'Q3': 0, 'Q7': 8, 'Q8': 15}},\n",
       " {'StudentID': 'Student12', 'Scores': {'Q2': 5, 'Q5': 6, 'Q6': 7, 'Q8': 4}},\n",
       " {'StudentID': 'Student13', 'Scores': {'Q2': 15, 'Q3': 2, 'Q4': 10, 'Q5': 17}},\n",
       " {'StudentID': 'Student14', 'Scores': {'Q1': 8, 'Q5': 13, 'Q8': 8, 'Q4': 15}},\n",
       " {'StudentID': 'Student15', 'Scores': {'Q2': 9, 'Q8': 17, 'Q3': 19, 'Q4': 8}},\n",
       " {'StudentID': 'Student16', 'Scores': {'Q2': 11, 'Q5': 9, 'Q6': 8, 'Q3': 1}},\n",
       " {'StudentID': 'Student17', 'Scores': {'Q2': 2, 'Q8': 12, 'Q7': 16, 'Q6': 5}},\n",
       " {'StudentID': 'Student18', 'Scores': {'Q2': 18, 'Q4': 2, 'Q6': 9, 'Q8': 0}},\n",
       " {'StudentID': 'Student19', 'Scores': {'Q1': 11, 'Q5': 19, 'Q4': 19, 'Q7': 5}},\n",
       " {'StudentID': 'Student20', 'Scores': {'Q1': 14, 'Q6': 0, 'Q7': 17, 'Q5': 15}},\n",
       " {'StudentID': 'Student21', 'Scores': {'Q1': 12, 'Q3': 4, 'Q4': 0, 'Q6': 12}},\n",
       " {'StudentID': 'Student22', 'Scores': {'Q2': 17, 'Q6': 8, 'Q7': 10, 'Q8': 20}},\n",
       " {'StudentID': 'Student23', 'Scores': {'Q2': 7, 'Q6': 9, 'Q4': 17, 'Q5': 12}},\n",
       " {'StudentID': 'Student24',\n",
       "  'Scores': {'Q1': 14, 'Q5': 15, 'Q4': 17, 'Q8': 17}},\n",
       " {'StudentID': 'Student25', 'Scores': {'Q2': 16, 'Q3': 15, 'Q7': 4, 'Q8': 18}},\n",
       " {'StudentID': 'Student26', 'Scores': {'Q1': 6, 'Q4': 16, 'Q6': 0, 'Q8': 8}},\n",
       " {'StudentID': 'Student27', 'Scores': {'Q2': 3, 'Q6': 6, 'Q5': 17, 'Q3': 14}},\n",
       " {'StudentID': 'Student28',\n",
       "  'Scores': {'Q1': 15, 'Q7': 12, 'Q8': 15, 'Q6': 18}},\n",
       " {'StudentID': 'Student29', 'Scores': {'Q1': 17, 'Q7': 16, 'Q5': 5, 'Q4': 1}},\n",
       " {'StudentID': 'Student30', 'Scores': {'Q1': 2, 'Q7': 1, 'Q6': 12, 'Q3': 8}},\n",
       " {'StudentID': 'Student31', 'Scores': {'Q2': 5, 'Q6': 16, 'Q4': 11, 'Q8': 15}},\n",
       " {'StudentID': 'Student32', 'Scores': {'Q1': 20, 'Q3': 0, 'Q5': 18, 'Q6': 4}},\n",
       " {'StudentID': 'Student33', 'Scores': {'Q2': 5, 'Q7': 18, 'Q4': 1, 'Q8': 20}},\n",
       " {'StudentID': 'Student34', 'Scores': {'Q2': 1, 'Q7': 3, 'Q5': 7, 'Q4': 10}},\n",
       " {'StudentID': 'Student35', 'Scores': {'Q1': 3, 'Q6': 9, 'Q5': 15, 'Q8': 4}},\n",
       " {'StudentID': 'Student36', 'Scores': {'Q1': 14, 'Q4': 11, 'Q6': 2, 'Q8': 5}},\n",
       " {'StudentID': 'Student37', 'Scores': {'Q1': 6, 'Q5': 14, 'Q8': 10, 'Q6': 9}},\n",
       " {'StudentID': 'Student38', 'Scores': {'Q1': 6, 'Q8': 12, 'Q4': 16, 'Q6': 1}},\n",
       " {'StudentID': 'Student39', 'Scores': {'Q1': 19, 'Q6': 20, 'Q4': 1, 'Q3': 10}},\n",
       " {'StudentID': 'Student40', 'Scores': {'Q2': 7, 'Q4': 8, 'Q3': 12, 'Q8': 3}},\n",
       " {'StudentID': 'Student41', 'Scores': {'Q1': 13, 'Q4': 9, 'Q5': 12, 'Q6': 9}},\n",
       " {'StudentID': 'Student42', 'Scores': {'Q2': 2, 'Q3': 12, 'Q8': 5, 'Q6': 1}},\n",
       " {'StudentID': 'Student43', 'Scores': {'Q2': 20, 'Q8': 8, 'Q3': 6, 'Q4': 11}},\n",
       " {'StudentID': 'Student44', 'Scores': {'Q1': 3, 'Q3': 20, 'Q5': 15, 'Q8': 19}},\n",
       " {'StudentID': 'Student45', 'Scores': {'Q2': 9, 'Q8': 4, 'Q3': 19, 'Q5': 14}},\n",
       " {'StudentID': 'Student46', 'Scores': {'Q2': 0, 'Q5': 12, 'Q7': 11, 'Q6': 3}},\n",
       " {'StudentID': 'Student47', 'Scores': {'Q1': 2, 'Q8': 17, 'Q5': 13, 'Q7': 5}},\n",
       " {'StudentID': 'Student48', 'Scores': {'Q1': 17, 'Q4': 6, 'Q3': 2, 'Q6': 5}},\n",
       " {'StudentID': 'Student49', 'Scores': {'Q2': 2, 'Q5': 17, 'Q3': 11, 'Q8': 19}},\n",
       " {'StudentID': 'Student50', 'Scores': {'Q1': 7, 'Q6': 9, 'Q4': 7, 'Q7': 19}}]"
      ]
     },
     "execution_count": 2,
     "metadata": {},
     "output_type": "execute_result"
    }
   ],
   "source": [
    "import random\n",
    "\n",
    "# Generate raw scores for 50 students\n",
    "# Each student must answer either question 1 or 2 and any other 3 questions (4 in total out of 8)\n",
    "\n",
    "# Define the number of students and number of questions\n",
    "num_students = 50\n",
    "num_questions = 8\n",
    "questions_to_answer = 4\n",
    "\n",
    "# Generate raw scores for each student, with each question carrying a maximum of 20 marks\n",
    "students_scores_adjusted = []\n",
    "\n",
    "for student in range(num_students):\n",
    "    # Select either question 1 or 2 first\n",
    "    first_question = random.choice([1, 2])\n",
    "    \n",
    "    # Choose 3 additional questions from the remaining 6 (excluding the first chosen question)\n",
    "    other_questions = random.sample([q for q in range(3, num_questions + 1) if q != first_question], 3)\n",
    "    \n",
    "    # Collect all the questions answered\n",
    "    answered_questions = [first_question] + other_questions\n",
    "    \n",
    "    # Generate random scores (between 0 and 20) for each answered question\n",
    "    scores = {f\"Q{q}\": random.randint(0, 20) for q in answered_questions}\n",
    "    \n",
    "    students_scores_adjusted.append({\"StudentID\": f\"Student{student + 1}\", \"Scores\": scores})\n",
    "\n",
    "# Display the first 5 students' scores with the adjusted 20-mark scale\n",
    "students_scores_adjusted[:51]\n"
   ]
  },
  {
   "cell_type": "code",
   "execution_count": 8,
   "id": "67eb910e",
   "metadata": {},
   "outputs": [
    {
     "ename": "AttributeError",
     "evalue": "'list' object has no attribute 'dataframe'",
     "output_type": "error",
     "traceback": [
      "\u001b[1;31m---------------------------------------------------------------------------\u001b[0m",
      "\u001b[1;31mAttributeError\u001b[0m                            Traceback (most recent call last)",
      "Cell \u001b[1;32mIn[8], line 1\u001b[0m\n\u001b[1;32m----> 1\u001b[0m students_scores_adjusted\u001b[38;5;241m.\u001b[39mdataframe\n",
      "\u001b[1;31mAttributeError\u001b[0m: 'list' object has no attribute 'dataframe'"
     ]
    }
   ],
   "source": [
    "students_scores_adjusted.dataframe"
   ]
  },
  {
   "cell_type": "code",
   "execution_count": null,
   "id": "27231ce8",
   "metadata": {},
   "outputs": [],
   "source": []
  }
 ],
 "metadata": {
  "kernelspec": {
   "display_name": "Python 3 (ipykernel)",
   "language": "python",
   "name": "python3"
  },
  "language_info": {
   "codemirror_mode": {
    "name": "ipython",
    "version": 3
   },
   "file_extension": ".py",
   "mimetype": "text/x-python",
   "name": "python",
   "nbconvert_exporter": "python",
   "pygments_lexer": "ipython3",
   "version": "3.11.5"
  }
 },
 "nbformat": 4,
 "nbformat_minor": 5
}
